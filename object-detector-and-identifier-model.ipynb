{
 "cells": [
  {
   "attachments": {},
   "cell_type": "markdown",
   "metadata": {
    "id": "5Vu93d2olS3m"
   },
   "source": [
    "# Design and Train an object detector to detect objects\n",
    "\n",
    "You have to design and implement a Training Pipeline that can train, test and visualize the model using the dataset provided.\n",
    "\n",
    "## Assignment Protocols\n",
    "\n",
    "- We expect it to take ~4 hours, with an extra 15 min for clear loom explanation(s)\n",
    "  - The assessment is timeboxed at 5 hours total in a single block. So please plan accordingly\n",
    "- You need to use Google Collaboratory to run and edit this notebook\n",
    "- You can only use Python as a programming Language\n",
    "- You cannot take help from any other person\n",
    "- You can use Google to search for references\n",
    "- You can not search on google for design-related things, like what should be loss function, or what should be model architecture.\n",
    "  - But you can use pre-trained backbones from PyTorch\n",
    "- Record a 5-10 mins of code walkthrough of the work you have done. You can use Loom Platform (https://www.loom.com) to record the video.\n",
    "  - Design Decisions\n",
    "    - Model Design which layers and activation functions you used and why\n",
    "    - Loss function, which loss functions you used and why\n",
    "    - Metrics, which metrics and why\n",
    "  - Any optimizations you have made to the codebase\n",
    "  - How you implemented resume functionality, what were the things you thought would be needed to resume training from exact same point\n",
    "  - Explain what parts of the assessment are completed and what is missing?\n",
    "  - Make sure to submit the screen recording link in the submission after you are done recording\n",
    "  - Please note that the free plan on Loom only allows for videos up to 5 minutes in length. As such, you may need to record two separate 5-minute videos.\n",
    "- [NO SUBMISSION WILL BE ACCEPTED WITHOUT]\n",
    "  - Trained best model weights\n",
    "  - Visualize Function in the Notebook\n",
    "  - Code Walk-through video\n",
    "\n",
    "## Task Details\n",
    "Design a Training Pipeline to train a object detector with following specs or assumptions:\n",
    "- Implement & Design Model\n",
    "  - You can use any backbone\n",
    "    - Either from PyTorch (torhvision) or any resource online\n",
    "    - But you need to design head your self (head means how you will use features of the back bone and get the desired outputs)\n",
    "  - Model needs to detect one object in each image\n",
    "  - Model should output following for each image passed as input:\n",
    "    - Whether we have an object or not\n",
    "    - Where is the object?\n",
    "      - The bounding box output format should be xmin, ymin, xmax, ymax\n",
    "      - It is not necessary the model is trained to output exactly this format but the visualize function which shows output should output in this format\n",
    "    - Either the object is a cat or dog?\n",
    "    - And which specie the object belongs to? There are in total 9 species: \n",
    "      - Cat [3 species]:\n",
    "        - Abyssinian\n",
    "        - Birman\n",
    "        - Persian\n",
    "      - Dog [6 species]\n",
    "        - american_bulldog\n",
    "        - american_pit_bull_terrier\n",
    "        - basset_hound\n",
    "        - beagle\n",
    "        - chihuahua\n",
    "        - pomeranian\n",
    "- Implement Custom Dataloader\n",
    "  - This is obvious as dataset is in a unique format any predifined dataloader wont work\n",
    "  - Follow best practices of writing custom dataloaders\n",
    "  - Details of the format of the dataset are defined in the Dataset Details section below\n",
    "  - Add needed pre-processing that you think would help train a better model or would help as we are using pre-trained weights as starting point\n",
    "  - Add augmentations that you think would help train a better model\n",
    "- Implement Loss Function\n",
    "  - Design and implement a loss function that can handle all of the outputs we have\n",
    "  - You can use pytorch built-in loss functions\n",
    "  - There are many scenarios which you need to handle, which one can understand from the dataset details and the model design\n",
    "- Implement Test Function\n",
    "  - The test function should be able to run the model on the validation set and output the metrics for all the outputs of the model\n",
    "  - Select the metrics carefully, there are many scenarios which can change the selection of a metric\n",
    "  - Keep in mind there are multiple outputs, you would need a metric for each output\n",
    "  - [NOTE] You don't need to implement metrics for the bounding box output as it can take more time than provided for this assessment. But please add details of the metrics you would have implemented in your code-walk through loom video.\n",
    "- Update Resume Training Functionality using the best weights\n",
    "  - Current script does not have save best weights functionality\n",
    "  - The code should be able to resume training from exactly same point from where the training was stopped if model weights file is passed\n",
    "  - Keep in mind you can not resume training from same point by just loading weights of the model\n",
    "- Implement a visualize function [Most important, without this no submission will be accepted]\n",
    "  - The input of the function should be path of a folder with images and the weight file\n",
    "    - Also the output folder path to save outputs\n",
    "  - This function should return a dictionary of dictionaries with following details for each image:\n",
    "    - {\n",
    "        \"has_object\": True,\n",
    "        \"cat_or_dog\": \"cat\",\n",
    "        \"specie\": \"persian\",\n",
    "        \"xmin\": 10,\n",
    "        \"ymin\": 10,\n",
    "        \"xmax\": 10,\n",
    "        \"ymax\": 10\n",
    "    }\n",
    "  - And in case there is no object it should have 0 for bbox values, \"NA\" for \"cat_or_dog\" and \"specie\", and False for \"has_object\".\n",
    "  - Values of the returned dictionary should be like explained above and keys should be image names including the extension \".jpg\" or \".jpeg\"\n",
    "  - Should save output image with bounding box drawn on it, with same name input image but place in the output folder \n",
    "- Try to train the best model\n",
    "\n",
    "\n",
    "## Dataset Details\n",
    "The dataset has in total 1041 images. Each image has a single object which is either a cat or a dog.\n",
    "- There are multiple species for both cat and dog.\n",
    "- The number of images falling in each specie is as follows:\n",
    "  - basset_hound: 93\n",
    "  - Birman: 93\n",
    "  - pomeranian: 93\n",
    "  - american_pit_bull_terrier: 93\n",
    "  - american_bulldog: 93\n",
    "  - Abyssinian: 92\n",
    "  - beagle: 93\n",
    "  - Persian: 93\n",
    "  - chihuahua: 93\n",
    "  - empty: 142\n",
    "- The dataset has two folders:\n",
    "  - images\n",
    "    - Inside images folder we have 986 images in .jpg folder\n",
    "  - labels\n",
    "    - Inside labels folder we have 899 .xml files each file with details of image labels\n",
    "    - For any image that does not have a cat or dog, there is no corresponding xml file\n",
    "\n",
    "## Deliverable\n",
    "- Updated Colab Based Jupyter Notebook:\n",
    "  - With all the required functionality Implemented\n",
    "  - Which one can train the model without any errors\n",
    "  - One should achieve same metrics (Almost same metrics) if I run training using this collab notebook\n",
    "    - Set default values for everything accordingly in the notebook\n",
    "  - During evaluation we will just run the notebook and use the best weights the notebook saves automatically\n",
    "- Best weights you have trained\n",
    "  - We will Evaluate your weights against hold-out test we have and compare results\n",
    "  - We will use visualize function to generate outputs for each image\n",
    "  - Upload weights in an easily downloadable location like, Dropbox, Google Drive, Github, etc\n",
    "- A video code-walk through explaining your design decisions including but not limited to:\n",
    "  - Model Design which layers and activation functions you used and why\n",
    "  - Loss function, which loss functions you used and why\n",
    "  - Metrics, which metrics and why\n",
    "  - Any optimizations you have made to the codebase\n",
    "  - How you implemented resume functionality, what were the things you thought would be needed to resume training from exact same point\n",
    "\n",
    "\n",
    "## Evaluation Criteria\n",
    " - Design Decisions\n",
    " - Completeness: Did you include all features?\n",
    " - Correctness: Does the solution (all deliverables) work in sensible, thought-out ways?\n",
    " - Maintainability: Is the code written in a clean, maintainable way?\n",
    " - Testing: Is the solution adequately tested?\n",
    " - Documentation: Is the codebase well-documented and has proper steps to run any of the deliverables?\n",
    "\n",
    "## Extra Points\n",
    "- Add metrics for the Bounding Box Output\n",
    "- Any Updates in the notebook (Bugs/Implementation Mistakes etc)\n",
    "\n",
    "## How to submit\n",
    "- Please upload the Notebook for this project to GitHub, and post a link to your repository below [repo link box, on the left of submit button].\n",
    "  - Create a new GitHub repository from scratch\n",
    "  - Add the final Colab/Jupyter notebook to the repository\n",
    "- Please upload video and your final best weights on Google Drive or any other platform, and paste the link to the folder with both video and model in the text box just above the submit button.\n",
    "- Please paste the commit Id of the latest commit of your Github Repo, which should not be later than 5 hours of time when the repo was created.\n",
    "  - Please note the submission without the commit id will not be considered."
   ]
  },
  {
   "cell_type": "markdown",
   "metadata": {
    "id": "KE_rGh4kod4n"
   },
   "source": [
    "# Install Required Modules"
   ]
  },
  {
   "cell_type": "code",
   "execution_count": 20,
   "metadata": {
    "id": "magQ0ErkoOIR",
    "ExecuteTime": {
     "end_time": "2023-05-25T16:13:38.759327Z",
     "start_time": "2023-05-25T16:13:36.261377800Z"
    }
   },
   "outputs": [
    {
     "name": "stdout",
     "output_type": "stream",
     "text": [
      "Requirement already satisfied: bs4 in c:\\users\\islam\\anaconda3\\envs\\workingspace\\lib\\site-packages (0.0.1)\n",
      "Requirement already satisfied: lxml in c:\\users\\islam\\anaconda3\\envs\\workingspace\\lib\\site-packages (4.9.1)\n",
      "Requirement already satisfied: kaggle in c:\\users\\islam\\anaconda3\\envs\\workingspace\\lib\\site-packages (1.5.13)\n",
      "Requirement already satisfied: beautifulsoup4 in c:\\users\\islam\\anaconda3\\envs\\workingspace\\lib\\site-packages (from bs4) (4.11.1)\n",
      "Requirement already satisfied: certifi in c:\\users\\islam\\anaconda3\\envs\\workingspace\\lib\\site-packages (from kaggle) (2023.5.7)\n",
      "Requirement already satisfied: requests in c:\\users\\islam\\anaconda3\\envs\\workingspace\\lib\\site-packages (from kaggle) (2.28.1)\n",
      "Requirement already satisfied: python-slugify in c:\\users\\islam\\anaconda3\\envs\\workingspace\\lib\\site-packages (from kaggle) (8.0.1)\n",
      "Requirement already satisfied: tqdm in c:\\users\\islam\\anaconda3\\envs\\workingspace\\lib\\site-packages (from kaggle) (4.64.1)\n",
      "Requirement already satisfied: python-dateutil in c:\\users\\islam\\anaconda3\\envs\\workingspace\\lib\\site-packages (from kaggle) (2.8.2)\n",
      "Requirement already satisfied: urllib3 in c:\\users\\islam\\anaconda3\\envs\\workingspace\\lib\\site-packages (from kaggle) (1.26.14)\n",
      "Requirement already satisfied: six>=1.10 in c:\\users\\islam\\anaconda3\\envs\\workingspace\\lib\\site-packages (from kaggle) (1.16.0)\n",
      "Requirement already satisfied: soupsieve>1.2 in c:\\users\\islam\\anaconda3\\envs\\workingspace\\lib\\site-packages (from beautifulsoup4->bs4) (2.3.2.post1)\n",
      "Requirement already satisfied: text-unidecode>=1.3 in c:\\users\\islam\\anaconda3\\envs\\workingspace\\lib\\site-packages (from python-slugify->kaggle) (1.3)\n",
      "Requirement already satisfied: charset-normalizer<3,>=2 in c:\\users\\islam\\anaconda3\\envs\\workingspace\\lib\\site-packages (from requests->kaggle) (2.0.4)\n",
      "Requirement already satisfied: idna<4,>=2.5 in c:\\users\\islam\\anaconda3\\envs\\workingspace\\lib\\site-packages (from requests->kaggle) (3.4)\n",
      "Requirement already satisfied: colorama in c:\\users\\islam\\anaconda3\\envs\\workingspace\\lib\\site-packages (from tqdm->kaggle) (0.4.6)\n"
     ]
    }
   ],
   "source": [
    "! pip install bs4 lxml kaggle"
   ]
  },
  {
   "cell_type": "markdown",
   "metadata": {
    "id": "Bw3F4t1eaLl6"
   },
   "source": [
    "# Download Dataset from Kaggle"
   ]
  },
  {
   "cell_type": "raw",
   "source": [
    "import os\n",
    "os.environ['KAGGLE_USERNAME'] = 'bilalyousaf0014'\n",
    "os.environ['KAGGLE_KEY'] = '11031bc21c5e3ec23585dbe17dc4267d'"
   ],
   "metadata": {
    "collapsed": false
   }
  },
  {
   "cell_type": "raw",
   "source": [
    "!kaggle datasets download -d bilalyousaf0014/ml-engineer-assessment-dataset"
   ],
   "metadata": {
    "collapsed": false
   }
  },
  {
   "cell_type": "raw",
   "source": [
    "! unzip ./ml-engineer-assessment-dataset.zip"
   ],
   "metadata": {
    "collapsed": false
   }
  },
  {
   "cell_type": "markdown",
   "metadata": {
    "id": "PMEbUqsPl9s4"
   },
   "source": [
    "# MODEL IMPLEMENTATION:"
   ]
  },
  {
   "cell_type": "code",
   "execution_count": 21,
   "metadata": {
    "id": "uXb6eKgFmNzx",
    "ExecuteTime": {
     "end_time": "2023-05-25T16:13:38.803209200Z",
     "start_time": "2023-05-25T16:13:38.763316300Z"
    }
   },
   "outputs": [],
   "source": [
    "import numpy as np\n",
    "import torch\n",
    "import torch.nn as nn\n",
    "from torchvision.models import ResNet18_Weights, resnet18"
   ]
  },
  {
   "cell_type": "code",
   "execution_count": 22,
   "metadata": {
    "id": "BtSgG4OklRte",
    "ExecuteTime": {
     "end_time": "2023-05-25T16:13:38.814179800Z",
     "start_time": "2023-05-25T16:13:38.781268400Z"
    }
   },
   "outputs": [],
   "source": [
    "class Model(nn.Module):\n",
    "\n",
    "    def __init__(self, num_species=9):\n",
    "        super(Model, self).__init__()\n",
    "\n",
    "        pretrained_model = resnet18(weights=ResNet18_Weights.DEFAULT)\n",
    "\n",
    "        self.backbone = nn.Sequential(*list(pretrained_model.children())[:-2])\n",
    "\n",
    "        self.num_species = num_species\n",
    "        ### Initialize the required Layers\n",
    "        self.have_object = nn.Sequential(\n",
    "            nn.Linear(512, 1),\n",
    "            nn.Sigmoid()\n",
    "        )\n",
    "        self.cat_or_dog = nn.Sequential(\n",
    "            nn.Linear(512, 1),\n",
    "            nn.Sigmoid()\n",
    "        )\n",
    "        self.specie = nn.Sequential(\n",
    "            nn.Linear(512, self.num_species),\n",
    "            nn.Softmax(dim=1)\n",
    "        )\n",
    "        self.bbox = nn.Sequential(\n",
    "            nn.Linear(512, 4)\n",
    "        )\n",
    "        ### Initialize the required Layers\n",
    "\n",
    "    def forward(self, input):\n",
    "        out_backbone = self.backbone(input)\n",
    "        out_backbone = torch.flatten(out_backbone, start_dim=1)\n",
    "\n",
    "        ### Forward Calls for the Model\n",
    "        object_output = self.have_object(out_backbone)\n",
    "        bbox_output = self.bbox(out_backbone)\n",
    "        cat_or_dog_output = self.cat_or_dog(out_backbone)\n",
    "        specie_output = self.specie(out_backbone)\n",
    "\n",
    "        return {\n",
    "            \"bbox\": bbox_output,\n",
    "            \"object\": object_output,\n",
    "            \"cat_or_dog\": cat_or_dog_output,\n",
    "            \"specie\": specie_output\n",
    "        }\n"
   ]
  },
  {
   "cell_type": "markdown",
   "metadata": {
    "id": "avxCQ2W-oGxV"
   },
   "source": [
    "# CUSTOM DATALOADER IMPLEMENTATION"
   ]
  },
  {
   "cell_type": "code",
   "execution_count": 23,
   "metadata": {
    "id": "ZNds6zOg8w5A",
    "ExecuteTime": {
     "end_time": "2023-05-25T16:13:38.814179800Z",
     "start_time": "2023-05-25T16:13:38.803209200Z"
    }
   },
   "outputs": [],
   "source": [
    "train_list = np.load('./dataset/train_list.npy', allow_pickle=True).tolist()\n",
    "val_list = np.load('./dataset/val_list.npy', allow_pickle=True).tolist()\n",
    "\n",
    "# define the checkpoint filepath\n",
    "filepath = \"model_weights.h5\""
   ]
  },
  {
   "cell_type": "code",
   "execution_count": 24,
   "metadata": {
    "id": "E30zu6ICmKOL",
    "ExecuteTime": {
     "end_time": "2023-05-25T16:13:38.821161600Z",
     "start_time": "2023-05-25T16:13:38.811190200Z"
    }
   },
   "outputs": [],
   "source": [
    "from bs4 import BeautifulSoup\n",
    "\n",
    "def read_xml_file(path):\n",
    "    with open(path, 'r') as f:\n",
    "        data = f.read()\n",
    "    bs_data = BeautifulSoup(data, 'xml')\n",
    "    return {\n",
    "        \"cat_or_dog\": bs_data.find(\"name\").text,\n",
    "        \"xmin\": int(bs_data.find(\"xmin\").text),\n",
    "        \"ymin\": int(bs_data.find(\"ymin\").text),\n",
    "        \"xmax\": int(bs_data.find(\"xmax\").text),\n",
    "        \"ymax\": int(bs_data.find(\"ymax\").text),\n",
    "        \"specie\": \"_\".join(path.split(os.sep)[-1].split(\"_\")[:-1])\n",
    "    }"
   ]
  },
  {
   "cell_type": "code",
   "execution_count": 25,
   "metadata": {
    "id": "z16n7BbnoviB",
    "ExecuteTime": {
     "end_time": "2023-05-25T16:13:38.848090300Z",
     "start_time": "2023-05-25T16:13:38.827145900Z"
    }
   },
   "outputs": [],
   "source": [
    "import torch\n",
    "import torchvision.transforms as transforms\n",
    "from PIL import Image\n",
    "\n",
    "\n",
    "class CustomDataset(torch.utils.data.Dataset):\n",
    "    def __init__(self, dataset_path, images_list, train=False):\n",
    "        self.dataset_path = dataset_path\n",
    "        self.images_list = images_list\n",
    "        self.train = train\n",
    "\n",
    "        self.image_folder_path = os.path.join(dataset_path, \"images\")\n",
    "        self.label_folder_path = os.path.join(dataset_path, \"labels\")\n",
    "\n",
    "        self.transforms = transforms.Compose([\n",
    "            transforms.Resize((256, 256)),  # Resize the image to 256x256\n",
    "            transforms.ToTensor(),  # Convert the image to a tensor\n",
    "            transforms.Normalize(mean=[0.5, 0.5, 0.5], std=[0.5, 0.5, 0.5])  # Normalize the image\n",
    "        ])\n",
    "\n",
    "        if self.train:\n",
    "            self.augmentations = transforms.Compose([\n",
    "                transforms.RandomCrop((224, 224)),  # Randomly crop the image to 224x224\n",
    "                transforms.RandomHorizontalFlip(p=0.5),  # Randomly flip the image horizontally with probability 0.5\n",
    "                transforms.RandomRotation(degrees=15),  # Randomly rotate the image by up to 15 degrees\n",
    "                transforms.ColorJitter(brightness=0.2, contrast=0.2, saturation=0.2, hue=0.1)  # Randomly adjust the brightness, contrast, saturation, and hue of the image\n",
    "            ])\n",
    "\n",
    "    def __len__(self):\n",
    "        return len(self.images_list)\n",
    "\n",
    "    def __getitem__(self, index):\n",
    "        name = self.images_list[index]\n",
    "        image_path = os.path.join(self.image_folder_path, name + \".jpg\")\n",
    "        label_path = os.path.join(self.label_folder_path, name + \".xml\")\n",
    "\n",
    "        image = Image.open(image_path).convert(\"RGB\")\n",
    "        label = read_xml_file(label_path)\n",
    "\n",
    "        if self.train:\n",
    "            image = self.augmentations(image)\n",
    "\n",
    "        image = self.transforms(image)\n",
    "\n",
    "        return image, label\n"
   ]
  },
  {
   "cell_type": "markdown",
   "metadata": {
    "id": "hkbn3C3cqahY"
   },
   "source": [
    "# TRAINING LOOP IMPLEMENTATION"
   ]
  },
  {
   "cell_type": "markdown",
   "metadata": {
    "id": "SxODf-DLqmPA"
   },
   "source": [
    "## Initializations"
   ]
  },
  {
   "cell_type": "code",
   "execution_count": 26,
   "metadata": {
    "id": "Drkrrx8pqjzM",
    "ExecuteTime": {
     "end_time": "2023-05-25T16:13:38.854073500Z",
     "start_time": "2023-05-25T16:13:38.841108300Z"
    }
   },
   "outputs": [],
   "source": [
    "from torch.utils.data import DataLoader"
   ]
  },
  {
   "cell_type": "code",
   "execution_count": 27,
   "metadata": {
    "id": "1k8jvr7EqaPz",
    "ExecuteTime": {
     "end_time": "2023-05-25T16:13:38.887982400Z",
     "start_time": "2023-05-25T16:13:38.866042Z"
    }
   },
   "outputs": [],
   "source": [
    "from torch.utils.tensorboard import SummaryWriter\n",
    "\n",
    "\n",
    "def train(epochs, model_weights):\n",
    "    # Initialize Model and Optimizer\n",
    "    model = Model()\n",
    "    optimizer = torch.optim.SGD(model.parameters(), lr=0.001, momentum=0.9)\n",
    "\n",
    "    # Initialize Loss Functions\n",
    "    have_object_loss = nn.BCELoss()\n",
    "    specie_loss = nn.CrossEntropyLoss()\n",
    "    cat_or_dog_loss = nn.CrossEntropyLoss()\n",
    "    bbox_loss = nn.MSELoss()\n",
    "    # Not necessary you need to apply function to all coordinates together, You can have separate loss functions for all coordinates too\n",
    "    # Below or Above\n",
    "    xmin_loss = nn.MSELoss()\n",
    "    ymin_loss = nn.MSELoss()\n",
    "    xmax_loss = nn.MSELoss()\n",
    "    ymax_loss = nn.MSELoss()\n",
    "    training_dataset = CustomDataset(\"./dataset\", images_list=train_list)\n",
    "    training_loader = DataLoader(training_dataset, batch_size=32, shuffle=True)\n",
    "\n",
    "    if torch.cuda.is_available():\n",
    "        model = model.cuda()\n",
    "\n",
    "    def train_one_epoch(epoch_index, tb_writer):\n",
    "        running_loss = 0.\n",
    "        last_loss = 0.\n",
    "\n",
    "        # Here, we use enumerate(training_loader) instead of\n",
    "        # iter(training_loader) so that we can track the batch\n",
    "        # index and do some intra-epoch reporting\n",
    "        for i, data in enumerate(training_loader):\n",
    "            # Every data instance is an input + label pair\n",
    "            inputs, labels = data\n",
    "\n",
    "            if torch.cuda.is_available():\n",
    "                inputs = inputs.cuda()\n",
    "                labels = {key: value.cuda() for key, value in labels.items()}\n",
    "\n",
    "            # Zero the parameter gradients\n",
    "            optimizer.zero_grad()\n",
    "            # Make predictions for this batch\n",
    "            outputs = model(inputs)\n",
    "\n",
    "            # Compute the loss and its gradients\n",
    "            loss_have_object = have_object_loss(outputs[\"object\"], labels[\"has_object\"])\n",
    "            loss_specie = specie_loss(outputs[\"specie\"], labels[\"specie\"])\n",
    "            loss_cat_or_dog = cat_or_dog_loss(outputs[\"cat_or_dog\"], labels[\"cat_or_dog\"])\n",
    "\n",
    "            loss_bbox = bbox_loss(outputs[\"bbox\"], labels[\"bbox\"])\n",
    "            # Above or Below\n",
    "            loss_xmin = xmin_loss(outputs[\"bbox\"], labels[\"bbox\"])\n",
    "            loss_ymin = ymin_loss(outputs[\"bbox\"], labels[\"bbox\"])\n",
    "            loss_xmax = xmax_loss(outputs[\"bbox\"], labels[\"bbox\"])\n",
    "            loss_ymax = ymax_loss(outputs[\"bbox\"], labels[\"bbox\"])\n",
    "\n",
    "            loss = (\n",
    "                    loss_have_object\n",
    "                    + loss_specie\n",
    "                    + loss_cat_or_dog\n",
    "                    + loss_bbox\n",
    "                    + loss_xmin\n",
    "                    + loss_ymin\n",
    "                    + loss_xmax\n",
    "                    + loss_ymax\n",
    "            )\n",
    "\n",
    "            # Gather data and report\n",
    "            running_loss += loss.item()\n",
    "            if i % 10 == 0:\n",
    "                last_loss = running_loss / 10  # loss over last 10 mini-batches\n",
    "                print(f\"Epoch {epoch_index}, Batch {i}: Loss = {last_loss:.3f}\")\n",
    "                tb_writer.add_scalar(\"Loss/Running\", last_loss, epoch_index * len(training_loader) + i)\n",
    "\n",
    "            # Back-Propagate the gradients\n",
    "            loss.backward()\n",
    "            optimizer.step()\n",
    "\n",
    "        epoch_loss = running_loss / len(training_loader)\n",
    "        print(f\"Epoch {epoch_index} Loss = {epoch_loss:.3f}\")\n",
    "        tb_writer.add_scalar(\"Loss/Epoch\", epoch_loss, epoch_index)\n",
    "\n",
    "        return epoch_loss\n",
    "\n",
    "    def save_checkpoint(model_state, optimizer_state, epoch, loss, checkpoint_path):\n",
    "        checkpoint = {\n",
    "            \"model_state_dict\": model_state,\n",
    "            \"optimizer_state_dict\": optimizer_state,\n",
    "            \"epoch\": epoch,\n",
    "            \"loss\": loss,\n",
    "        }\n",
    "        torch.save(checkpoint, checkpoint_path)\n",
    "\n",
    "    # Create a tensorboard writer\n",
    "    tb_writer = SummaryWriter()\n",
    "\n",
    "    start_epoch = 0\n",
    "\n",
    "    # Try to load the model's weights from a previous checkpoint else start afresh\n",
    "    try :\n",
    "        checkpoint = torch.load(model_weights)\n",
    "        model.load_state_dict(checkpoint[\"model_state_dict\"])\n",
    "        optimizer.load_state_dict(checkpoint[\"optimizer_state_dict\"])\n",
    "        start_epoch = checkpoint[\"epoch\"] + 1\n",
    "        best_loss = checkpoint[\"loss\"]\n",
    "    except:\n",
    "        print(\"No checkpoint found, starting afresh\")\n",
    "        best_loss = float(\"inf\")  # Set initial best loss as infinity\n",
    "        pass\n",
    "\n",
    "\n",
    "    for epoch in range(start_epoch, start_epoch + epochs):\n",
    "        print(f\"Epoch {epoch}/{start_epoch + epochs - 1}\")\n",
    "\n",
    "        # Train one epoch\n",
    "        epoch_loss = train_one_epoch(epoch, tb_writer)\n",
    "\n",
    "        # Save the model's weights if the current loss is the best so far\n",
    "        if epoch_loss < best_loss:\n",
    "            best_loss = epoch_loss\n",
    "            save_checkpoint(model.state_dict(), optimizer.state_dict(), epoch, best_loss, \"./best_model.h5\")\n",
    "\n",
    "        # Save the model's checkpoint at the end of each epoch\n",
    "        save_checkpoint(model.state_dict(), optimizer.state_dict(), epoch, epoch_loss, \"./latest_model.h5\")\n",
    "\n",
    "    # Close the tensorboard writer\n",
    "    tb_writer.close()\n"
   ]
  },
  {
   "cell_type": "code",
   "execution_count": 28,
   "outputs": [],
   "source": [
    "import torchmetrics\n",
    "\n",
    "\n",
    "def test(model, val_list):\n",
    "    def post_process_object(x):\n",
    "        return torch.cat([1 - x, x], dim=1)\n",
    "\n",
    "    def post_process_cat_or_dog(x):\n",
    "        return torch.cat([1 - x, x], dim=1)\n",
    "\n",
    "    def post_process_specie(x):\n",
    "        return torch.cat([x, 1 - x.sum(dim=1, keepdim=True)], dim=1)\n",
    "\n",
    "    def post_process_bbox(x):\n",
    "        return x\n",
    "\n",
    "    val_dataset = CustomDataset(\"./dataset\", images_list=val_list)\n",
    "    val_loader = DataLoader(val_dataset, batch_size=32, shuffle=False)\n",
    "\n",
    "    metric_object = torchmetrics.Accuracy()\n",
    "    metric_cat_or_dog = torchmetrics.Accuracy()\n",
    "    metric_specie = torchmetrics.Accuracy()\n",
    "    metric_bbox = torchmetrics.MeanSquaredError()\n",
    "\n",
    "    device = torch.device(\"cuda\" if torch.cuda.is_available() else \"cpu\")\n",
    "    model.to(device)\n",
    "\n",
    "    model.eval()\n",
    "\n",
    "    with torch.no_grad():\n",
    "        for i, data in enumerate(val_loader):\n",
    "            inputs, labels = data\n",
    "            inputs = inputs.to(device)\n",
    "            labels = {key: value.to(device) for key, value in labels.items()}\n",
    "\n",
    "            # Make predictions for this batch\n",
    "            outputs = model(inputs)\n",
    "\n",
    "            # Post-process the model outputs\n",
    "            outputs[\"object\"] = post_process_object(outputs[\"object\"])\n",
    "            outputs[\"cat_or_dog\"] = post_process_cat_or_dog(outputs[\"cat_or_dog\"])\n",
    "            outputs[\"specie\"] = post_process_specie(outputs[\"specie\"])\n",
    "            outputs[\"bbox\"] = post_process_bbox(outputs[\"bbox\"])\n",
    "\n",
    "            # Update the metrics using the post-processed outputs and labels\n",
    "            metric_object(outputs[\"object\"], labels[\"has_object\"])\n",
    "            metric_cat_or_dog(outputs[\"cat_or_dog\"], labels[\"cat_or_dog\"])\n",
    "            metric_specie(outputs[\"specie\"], labels[\"specie\"])\n",
    "            metric_bbox(outputs[\"bbox\"], labels[\"bbox\"])\n",
    "\n",
    "    object_presence_accuracy = metric_object.compute()\n",
    "    cat_or_dog_accuracy = metric_cat_or_dog.compute()\n",
    "    specie_accuracy = metric_specie.compute()\n",
    "    bbox_mse = metric_bbox.compute()\n",
    "\n",
    "    return object_presence_accuracy, cat_or_dog_accuracy, specie_accuracy, bbox_mse\n"
   ],
   "metadata": {
    "collapsed": false,
    "ExecuteTime": {
     "end_time": "2023-05-25T16:13:38.898953200Z",
     "start_time": "2023-05-25T16:13:38.892978100Z"
    }
   }
  },
  {
   "cell_type": "code",
   "execution_count": 29,
   "metadata": {
    "colab": {
     "background_save": true
    },
    "id": "8TgRVGPDaUAd",
    "ExecuteTime": {
     "end_time": "2023-05-25T16:13:38.925279300Z",
     "start_time": "2023-05-25T16:13:38.905294300Z"
    }
   },
   "outputs": [],
   "source": [
    "from PIL import ImageDraw\n",
    "\n",
    "\n",
    "def visualize(model_weights, image_folder_path, image_name, output_folder=\"output\"):\n",
    "    model = Model()\n",
    "    model.load_state_dict(torch.load(model_weights))\n",
    "    model.eval()\n",
    "\n",
    "    try:\n",
    "        image = Image.open(os.path.join(image_folder_path, image_name + \".jpg\"))\n",
    "    except:\n",
    "        image = Image.open(os.path.join(image_folder_path, image_name + \".png\"))\n",
    "\n",
    "    preprocess = transforms.Compose([\n",
    "        transforms.Resize((224, 224)),\n",
    "        transforms.ToTensor(),\n",
    "        transforms.Normalize(mean=[0.485, 0.456, 0.406], std=[0.229, 0.224, 0.225])\n",
    "    ])\n",
    "\n",
    "    input_image = preprocess(image).unsqueeze(0)\n",
    "    output = model(input_image)\n",
    "\n",
    "    # Extract the required output values\n",
    "    bbox = output[\"bbox\"]\n",
    "    object_pred = output[\"object\"]\n",
    "    cat_or_dog_pred = output[\"cat_or_dog\"]\n",
    "    specie_pred = output[\"specie\"]\n",
    "\n",
    "    # Prepare the output folder\n",
    "    os.makedirs(output_folder, exist_ok=True)\n",
    "\n",
    "    # Draw bounding box on the image\n",
    "    draw = ImageDraw.Draw(image)\n",
    "    draw.rectangle([bbox[\"xmin\"], bbox[\"ymin\"], bbox[\"xmax\"], bbox[\"ymax\"]], outline=\"red\", width=2)\n",
    "\n",
    "    # Save the annotated image\n",
    "    image.save(os.path.join(output_folder, image_name + \"_annotated.jpg\"))\n",
    "\n",
    "    return {\n",
    "        \"bbox\": bbox,\n",
    "        \"object\": object_pred,\n",
    "        \"cat_or_dog\": cat_or_dog_pred,\n",
    "        \"specie\": specie_pred\n",
    "    }\n"
   ]
  },
  {
   "cell_type": "code",
   "execution_count": 30,
   "outputs": [
    {
     "name": "stdout",
     "output_type": "stream",
     "text": [
      "No checkpoint found, starting afresh\n",
      "Epoch 0/99\n"
     ]
    },
    {
     "ename": "TypeError",
     "evalue": "default_collate: batch must contain tensors, numpy arrays, numbers, dicts or lists; found <class 'PIL.Image.Image'>",
     "output_type": "error",
     "traceback": [
      "\u001B[1;31m---------------------------------------------------------------------------\u001B[0m",
      "\u001B[1;31mTypeError\u001B[0m                                 Traceback (most recent call last)",
      "Cell \u001B[1;32mIn[30], line 8\u001B[0m\n\u001B[0;32m      5\u001B[0m model_weights \u001B[38;5;241m=\u001B[39m \u001B[38;5;124m\"\u001B[39m\u001B[38;5;124m./latest_model.h5\u001B[39m\u001B[38;5;124m\"\u001B[39m\n\u001B[0;32m      7\u001B[0m \u001B[38;5;66;03m# Train the model\u001B[39;00m\n\u001B[1;32m----> 8\u001B[0m \u001B[43mtrain\u001B[49m\u001B[43m(\u001B[49m\u001B[43mepochs\u001B[49m\u001B[43m,\u001B[49m\u001B[43m \u001B[49m\u001B[43mmodel_weights\u001B[49m\u001B[43m)\u001B[49m\n\u001B[0;32m     10\u001B[0m \u001B[38;5;66;03m# Load the model\u001B[39;00m\n\u001B[0;32m     11\u001B[0m model \u001B[38;5;241m=\u001B[39m Model()\n",
      "Cell \u001B[1;32mIn[27], line 117\u001B[0m, in \u001B[0;36mtrain\u001B[1;34m(epochs, model_weights)\u001B[0m\n\u001B[0;32m    114\u001B[0m \u001B[38;5;28mprint\u001B[39m(\u001B[38;5;124mf\u001B[39m\u001B[38;5;124m\"\u001B[39m\u001B[38;5;124mEpoch \u001B[39m\u001B[38;5;132;01m{\u001B[39;00mepoch\u001B[38;5;132;01m}\u001B[39;00m\u001B[38;5;124m/\u001B[39m\u001B[38;5;132;01m{\u001B[39;00mstart_epoch \u001B[38;5;241m+\u001B[39m epochs \u001B[38;5;241m-\u001B[39m \u001B[38;5;241m1\u001B[39m\u001B[38;5;132;01m}\u001B[39;00m\u001B[38;5;124m\"\u001B[39m)\n\u001B[0;32m    116\u001B[0m \u001B[38;5;66;03m# Train one epoch\u001B[39;00m\n\u001B[1;32m--> 117\u001B[0m epoch_loss \u001B[38;5;241m=\u001B[39m \u001B[43mtrain_one_epoch\u001B[49m\u001B[43m(\u001B[49m\u001B[43mepoch\u001B[49m\u001B[43m,\u001B[49m\u001B[43m \u001B[49m\u001B[43mtb_writer\u001B[49m\u001B[43m)\u001B[49m\n\u001B[0;32m    119\u001B[0m \u001B[38;5;66;03m# Save the model's weights if the current loss is the best so far\u001B[39;00m\n\u001B[0;32m    120\u001B[0m \u001B[38;5;28;01mif\u001B[39;00m epoch_loss \u001B[38;5;241m<\u001B[39m best_loss:\n",
      "Cell \u001B[1;32mIn[27], line 33\u001B[0m, in \u001B[0;36mtrain.<locals>.train_one_epoch\u001B[1;34m(epoch_index, tb_writer)\u001B[0m\n\u001B[0;32m     28\u001B[0m last_loss \u001B[38;5;241m=\u001B[39m \u001B[38;5;241m0.\u001B[39m\n\u001B[0;32m     30\u001B[0m \u001B[38;5;66;03m# Here, we use enumerate(training_loader) instead of\u001B[39;00m\n\u001B[0;32m     31\u001B[0m \u001B[38;5;66;03m# iter(training_loader) so that we can track the batch\u001B[39;00m\n\u001B[0;32m     32\u001B[0m \u001B[38;5;66;03m# index and do some intra-epoch reporting\u001B[39;00m\n\u001B[1;32m---> 33\u001B[0m \u001B[38;5;28;01mfor\u001B[39;00m i, data \u001B[38;5;129;01min\u001B[39;00m \u001B[38;5;28menumerate\u001B[39m(training_loader):\n\u001B[0;32m     34\u001B[0m     \u001B[38;5;66;03m# Every data instance is an input + label pair\u001B[39;00m\n\u001B[0;32m     35\u001B[0m     inputs, labels \u001B[38;5;241m=\u001B[39m data\n\u001B[0;32m     37\u001B[0m     \u001B[38;5;28;01mif\u001B[39;00m torch\u001B[38;5;241m.\u001B[39mcuda\u001B[38;5;241m.\u001B[39mis_available():\n",
      "File \u001B[1;32m~\\anaconda3\\envs\\WorkingSpace\\lib\\site-packages\\torch\\utils\\data\\dataloader.py:681\u001B[0m, in \u001B[0;36m_BaseDataLoaderIter.__next__\u001B[1;34m(self)\u001B[0m\n\u001B[0;32m    678\u001B[0m \u001B[38;5;28;01mif\u001B[39;00m \u001B[38;5;28mself\u001B[39m\u001B[38;5;241m.\u001B[39m_sampler_iter \u001B[38;5;129;01mis\u001B[39;00m \u001B[38;5;28;01mNone\u001B[39;00m:\n\u001B[0;32m    679\u001B[0m     \u001B[38;5;66;03m# TODO(https://github.com/pytorch/pytorch/issues/76750)\u001B[39;00m\n\u001B[0;32m    680\u001B[0m     \u001B[38;5;28mself\u001B[39m\u001B[38;5;241m.\u001B[39m_reset()  \u001B[38;5;66;03m# type: ignore[call-arg]\u001B[39;00m\n\u001B[1;32m--> 681\u001B[0m data \u001B[38;5;241m=\u001B[39m \u001B[38;5;28;43mself\u001B[39;49m\u001B[38;5;241;43m.\u001B[39;49m\u001B[43m_next_data\u001B[49m\u001B[43m(\u001B[49m\u001B[43m)\u001B[49m\n\u001B[0;32m    682\u001B[0m \u001B[38;5;28mself\u001B[39m\u001B[38;5;241m.\u001B[39m_num_yielded \u001B[38;5;241m+\u001B[39m\u001B[38;5;241m=\u001B[39m \u001B[38;5;241m1\u001B[39m\n\u001B[0;32m    683\u001B[0m \u001B[38;5;28;01mif\u001B[39;00m \u001B[38;5;28mself\u001B[39m\u001B[38;5;241m.\u001B[39m_dataset_kind \u001B[38;5;241m==\u001B[39m _DatasetKind\u001B[38;5;241m.\u001B[39mIterable \u001B[38;5;129;01mand\u001B[39;00m \\\n\u001B[0;32m    684\u001B[0m         \u001B[38;5;28mself\u001B[39m\u001B[38;5;241m.\u001B[39m_IterableDataset_len_called \u001B[38;5;129;01mis\u001B[39;00m \u001B[38;5;129;01mnot\u001B[39;00m \u001B[38;5;28;01mNone\u001B[39;00m \u001B[38;5;129;01mand\u001B[39;00m \\\n\u001B[0;32m    685\u001B[0m         \u001B[38;5;28mself\u001B[39m\u001B[38;5;241m.\u001B[39m_num_yielded \u001B[38;5;241m>\u001B[39m \u001B[38;5;28mself\u001B[39m\u001B[38;5;241m.\u001B[39m_IterableDataset_len_called:\n",
      "File \u001B[1;32m~\\anaconda3\\envs\\WorkingSpace\\lib\\site-packages\\torch\\utils\\data\\dataloader.py:721\u001B[0m, in \u001B[0;36m_SingleProcessDataLoaderIter._next_data\u001B[1;34m(self)\u001B[0m\n\u001B[0;32m    719\u001B[0m \u001B[38;5;28;01mdef\u001B[39;00m \u001B[38;5;21m_next_data\u001B[39m(\u001B[38;5;28mself\u001B[39m):\n\u001B[0;32m    720\u001B[0m     index \u001B[38;5;241m=\u001B[39m \u001B[38;5;28mself\u001B[39m\u001B[38;5;241m.\u001B[39m_next_index()  \u001B[38;5;66;03m# may raise StopIteration\u001B[39;00m\n\u001B[1;32m--> 721\u001B[0m     data \u001B[38;5;241m=\u001B[39m \u001B[38;5;28;43mself\u001B[39;49m\u001B[38;5;241;43m.\u001B[39;49m\u001B[43m_dataset_fetcher\u001B[49m\u001B[38;5;241;43m.\u001B[39;49m\u001B[43mfetch\u001B[49m\u001B[43m(\u001B[49m\u001B[43mindex\u001B[49m\u001B[43m)\u001B[49m  \u001B[38;5;66;03m# may raise StopIteration\u001B[39;00m\n\u001B[0;32m    722\u001B[0m     \u001B[38;5;28;01mif\u001B[39;00m \u001B[38;5;28mself\u001B[39m\u001B[38;5;241m.\u001B[39m_pin_memory:\n\u001B[0;32m    723\u001B[0m         data \u001B[38;5;241m=\u001B[39m _utils\u001B[38;5;241m.\u001B[39mpin_memory\u001B[38;5;241m.\u001B[39mpin_memory(data, \u001B[38;5;28mself\u001B[39m\u001B[38;5;241m.\u001B[39m_pin_memory_device)\n",
      "File \u001B[1;32m~\\anaconda3\\envs\\WorkingSpace\\lib\\site-packages\\torch\\utils\\data\\_utils\\fetch.py:52\u001B[0m, in \u001B[0;36m_MapDatasetFetcher.fetch\u001B[1;34m(self, possibly_batched_index)\u001B[0m\n\u001B[0;32m     50\u001B[0m \u001B[38;5;28;01melse\u001B[39;00m:\n\u001B[0;32m     51\u001B[0m     data \u001B[38;5;241m=\u001B[39m \u001B[38;5;28mself\u001B[39m\u001B[38;5;241m.\u001B[39mdataset[possibly_batched_index]\n\u001B[1;32m---> 52\u001B[0m \u001B[38;5;28;01mreturn\u001B[39;00m \u001B[38;5;28;43mself\u001B[39;49m\u001B[38;5;241;43m.\u001B[39;49m\u001B[43mcollate_fn\u001B[49m\u001B[43m(\u001B[49m\u001B[43mdata\u001B[49m\u001B[43m)\u001B[49m\n",
      "File \u001B[1;32m~\\anaconda3\\envs\\WorkingSpace\\lib\\site-packages\\torch\\utils\\data\\_utils\\collate.py:175\u001B[0m, in \u001B[0;36mdefault_collate\u001B[1;34m(batch)\u001B[0m\n\u001B[0;32m    172\u001B[0m transposed \u001B[38;5;241m=\u001B[39m \u001B[38;5;28mlist\u001B[39m(\u001B[38;5;28mzip\u001B[39m(\u001B[38;5;241m*\u001B[39mbatch))  \u001B[38;5;66;03m# It may be accessed twice, so we use a list.\u001B[39;00m\n\u001B[0;32m    174\u001B[0m \u001B[38;5;28;01mif\u001B[39;00m \u001B[38;5;28misinstance\u001B[39m(elem, \u001B[38;5;28mtuple\u001B[39m):\n\u001B[1;32m--> 175\u001B[0m     \u001B[38;5;28;01mreturn\u001B[39;00m [default_collate(samples) \u001B[38;5;28;01mfor\u001B[39;00m samples \u001B[38;5;129;01min\u001B[39;00m transposed]  \u001B[38;5;66;03m# Backwards compatibility.\u001B[39;00m\n\u001B[0;32m    176\u001B[0m \u001B[38;5;28;01melse\u001B[39;00m:\n\u001B[0;32m    177\u001B[0m     \u001B[38;5;28;01mtry\u001B[39;00m:\n",
      "File \u001B[1;32m~\\anaconda3\\envs\\WorkingSpace\\lib\\site-packages\\torch\\utils\\data\\_utils\\collate.py:175\u001B[0m, in \u001B[0;36m<listcomp>\u001B[1;34m(.0)\u001B[0m\n\u001B[0;32m    172\u001B[0m transposed \u001B[38;5;241m=\u001B[39m \u001B[38;5;28mlist\u001B[39m(\u001B[38;5;28mzip\u001B[39m(\u001B[38;5;241m*\u001B[39mbatch))  \u001B[38;5;66;03m# It may be accessed twice, so we use a list.\u001B[39;00m\n\u001B[0;32m    174\u001B[0m \u001B[38;5;28;01mif\u001B[39;00m \u001B[38;5;28misinstance\u001B[39m(elem, \u001B[38;5;28mtuple\u001B[39m):\n\u001B[1;32m--> 175\u001B[0m     \u001B[38;5;28;01mreturn\u001B[39;00m [\u001B[43mdefault_collate\u001B[49m\u001B[43m(\u001B[49m\u001B[43msamples\u001B[49m\u001B[43m)\u001B[49m \u001B[38;5;28;01mfor\u001B[39;00m samples \u001B[38;5;129;01min\u001B[39;00m transposed]  \u001B[38;5;66;03m# Backwards compatibility.\u001B[39;00m\n\u001B[0;32m    176\u001B[0m \u001B[38;5;28;01melse\u001B[39;00m:\n\u001B[0;32m    177\u001B[0m     \u001B[38;5;28;01mtry\u001B[39;00m:\n",
      "File \u001B[1;32m~\\anaconda3\\envs\\WorkingSpace\\lib\\site-packages\\torch\\utils\\data\\_utils\\collate.py:183\u001B[0m, in \u001B[0;36mdefault_collate\u001B[1;34m(batch)\u001B[0m\n\u001B[0;32m    179\u001B[0m         \u001B[38;5;28;01mexcept\u001B[39;00m \u001B[38;5;167;01mTypeError\u001B[39;00m:\n\u001B[0;32m    180\u001B[0m             \u001B[38;5;66;03m# The sequence type may not support `__init__(iterable)` (e.g., `range`).\u001B[39;00m\n\u001B[0;32m    181\u001B[0m             \u001B[38;5;28;01mreturn\u001B[39;00m [default_collate(samples) \u001B[38;5;28;01mfor\u001B[39;00m samples \u001B[38;5;129;01min\u001B[39;00m transposed]\n\u001B[1;32m--> 183\u001B[0m \u001B[38;5;28;01mraise\u001B[39;00m \u001B[38;5;167;01mTypeError\u001B[39;00m(default_collate_err_msg_format\u001B[38;5;241m.\u001B[39mformat(elem_type))\n",
      "\u001B[1;31mTypeError\u001B[0m: default_collate: batch must contain tensors, numpy arrays, numbers, dicts or lists; found <class 'PIL.Image.Image'>"
     ]
    }
   ],
   "source": [
    "import os\n",
    "import random\n",
    "\n",
    "epochs = 100\n",
    "model_weights = \"./latest_model.h5\"\n",
    "\n",
    "# Train the model\n",
    "train(epochs, model_weights)\n",
    "\n",
    "# Load the model\n",
    "model = Model()\n",
    "model.load_state_dict(torch.load(model_weights))\n",
    "\n",
    "# Test the model\n",
    "score_object, score_cat_or_dog, score_specie, score_bbox = test(model, val_list)\n",
    "\n",
    "# Print the scores\n",
    "print(f\"Score Object: {score_object:.4f}\")\n",
    "print(f\"Score Cat or Dog: {score_cat_or_dog:.4f}\")\n",
    "print(f\"Score Specie: {score_specie:.4f}\")\n",
    "print(f\"Score Bbox: {score_bbox:.4f}\")\n",
    "\n",
    "# Define image_folder_path and output_folder\n",
    "image_folder_path = \"./dataset/images\"\n",
    "output_folder = \"output\"\n",
    "\n",
    "# Get a list of all image files in the folder\n",
    "image_files = os.listdir(image_folder_path)\n",
    "# Randomly select 10 images\n",
    "selected_images = random.sample(image_files, k=10)\n",
    "\n",
    "# Visualize each selected image\n",
    "for image_name in selected_images:\n",
    "    visualize(model_weights, image_folder_path, image_name, output_folder)\n"
   ],
   "metadata": {
    "collapsed": false,
    "ExecuteTime": {
     "end_time": "2023-05-25T16:13:41.118889100Z",
     "start_time": "2023-05-25T16:13:38.915269Z"
    }
   }
  },
  {
   "cell_type": "code",
   "execution_count": null,
   "outputs": [],
   "source": [],
   "metadata": {
    "collapsed": false
   }
  }
 ],
 "metadata": {
  "accelerator": "GPU",
  "colab": {
   "provenance": []
  },
  "gpuClass": "standard",
  "kernelspec": {
   "name": "python3",
   "language": "python",
   "display_name": "Python 3 (ipykernel)"
  },
  "language_info": {
   "name": "python"
  }
 },
 "nbformat": 4,
 "nbformat_minor": 0
}
